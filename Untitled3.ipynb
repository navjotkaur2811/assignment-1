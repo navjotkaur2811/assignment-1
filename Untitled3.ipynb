{
  "nbformat": 4,
  "nbformat_minor": 0,
  "metadata": {
    "colab": {
      "name": "Untitled3.ipynb",
      "provenance": [],
      "authorship_tag": "ABX9TyMjWJBRrf1r7cDXtXUu6jWJ",
      "include_colab_link": true
    },
    "kernelspec": {
      "name": "python3",
      "display_name": "Python 3"
    },
    "language_info": {
      "name": "python"
    }
  },
  "cells": [
    {
      "cell_type": "markdown",
      "metadata": {
        "id": "view-in-github",
        "colab_type": "text"
      },
      "source": [
        "<a href=\"https://colab.research.google.com/github/navjotkaur2811/assignment-1/blob/main/Untitled3.ipynb\" target=\"_parent\"><img src=\"https://colab.research.google.com/assets/colab-badge.svg\" alt=\"Open In Colab\"/></a>"
      ]
    },
    {
      "cell_type": "code",
      "metadata": {
        "colab": {
          "base_uri": "https://localhost:8080/"
        },
        "id": "8LhuDJkeAgoN",
        "outputId": "0f9ee359-1854-4c40-bd13-7cfa6ac8a61b"
      },
      "source": [
        "#Assignment-1 input the list elements and arrange them in ascending order\n",
        "a = input(\"enter the elements of the list:\")\n",
        "values = [int(i) for i in a.split()]\n",
        "print(values)\n",
        "values.sort(reverse=True)\n",
        "print(values)\n"
      ],
      "execution_count": 8,
      "outputs": [
        {
          "output_type": "stream",
          "text": [
            "enter the elements of the list:56 87 98 4 32 12 9 44 80\n",
            "[56, 87, 98, 4, 32, 12, 9, 44, 80]\n",
            "[98, 87, 80, 56, 44, 32, 12, 9, 4]\n"
          ],
          "name": "stdout"
        }
      ]
    }
  ]
}